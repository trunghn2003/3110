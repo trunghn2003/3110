{
 "cells": [
  {
   "cell_type": "code",
   "execution_count": 2,
   "metadata": {},
   "outputs": [
    {
     "name": "stdout",
     "output_type": "stream",
     "text": [
      "File real_estate_data.csv đã được tạo.\n"
     ]
    }
   ],
   "source": [
    "import pandas as pd\n",
    "import numpy as np\n",
    "\n",
    "# Tạo dữ liệu mẫu\n",
    "data = {\n",
    "    \"location\": [\"Hanoi\"] * 50 + [\"Ha Dong\"] * 50,\n",
    "    \"size\": np.random.randint(30, 150, 100),  # Diện tích ngẫu nhiên từ 30 đến 150 m2\n",
    "    \"price\": np.random.randint(1_000, 10_000, 100)  # Giá ngẫu nhiên từ 1 triệu đến 10 triệu VNĐ\n",
    "}\n",
    "\n",
    "df = pd.DataFrame(data)\n",
    "df.to_csv(\"real_estate_data.csv\", index=True)\n",
    "print(\"File real_estate_data.csv đã được tạo.\")\n"
   ]
  },
  {
   "cell_type": "code",
   "execution_count": null,
   "metadata": {},
   "outputs": [],
   "source": []
  }
 ],
 "metadata": {
  "kernelspec": {
   "display_name": "Python 3 (ipykernel)",
   "language": "python",
   "name": "python3"
  },
  "language_info": {
   "codemirror_mode": {
    "name": "ipython",
    "version": 3
   },
   "file_extension": ".py",
   "mimetype": "text/x-python",
   "name": "python",
   "nbconvert_exporter": "python",
   "pygments_lexer": "ipython3",
   "version": "3.12.5"
  }
 },
 "nbformat": 4,
 "nbformat_minor": 2
}
